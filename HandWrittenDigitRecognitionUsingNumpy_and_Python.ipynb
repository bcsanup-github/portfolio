{
  "nbformat": 4,
  "nbformat_minor": 0,
  "metadata": {
    "colab": {
      "provenance": [],
      "gpuType": "T4",
      "mount_file_id": "1JJMKet_01i3Vs1FeYxqS1Ub0c-vEiYXj",
      "authorship_tag": "ABX9TyMVlQOgkKH1zWJV+CefyC9c",
      "include_colab_link": true
    },
    "kernelspec": {
      "name": "python3",
      "display_name": "Python 3"
    },
    "language_info": {
      "name": "python"
    },
    "accelerator": "GPU"
  },
  "cells": [
    {
      "cell_type": "markdown",
      "metadata": {
        "id": "view-in-github",
        "colab_type": "text"
      },
      "source": [
        "<a href=\"https://colab.research.google.com/github/bcsanup-github/portfolio/blob/main/HandWrittenDigitRecognitionUsingNumpy_and_Python.ipynb\" target=\"_parent\"><img src=\"https://colab.research.google.com/assets/colab-badge.svg\" alt=\"Open In Colab\"/></a>"
      ]
    },
    {
      "cell_type": "code",
      "execution_count": 25,
      "metadata": {
        "id": "UiHT3nK1tscR"
      },
      "outputs": [],
      "source": [
        "import numpy as np\n",
        "import matplotlib.pyplot as plt\n",
        "import random"
      ]
    },
    {
      "cell_type": "code",
      "source": [
        "x_train = np.loadtxt('/content/drive/MyDrive/MnistDataset/train_X.csv', delimiter = ',').T\n",
        "y_train = np.loadtxt('/content/drive/MyDrive/MnistDataset/train_label.csv', delimiter = ',').T\n",
        "\n",
        "x_test = np.loadtxt('/content/drive/MyDrive/MnistDataset/test_X.csv', delimiter = ',').T\n",
        "y_test = np.loadtxt('/content/drive/MyDrive/MnistDataset/test_label.csv', delimiter = ',').T"
      ],
      "metadata": {
        "id": "UgnYGmMzwkz1"
      },
      "execution_count": 26,
      "outputs": []
    },
    {
      "cell_type": "code",
      "source": [
        "print(\"shape of X_train :\", x_train.shape)\n",
        "print(\"shape of Y_train :\", y_train.shape)\n",
        "print(\"shape of X_test :\", x_test.shape)\n",
        "print(\"shape of Y_test :\", y_test.shape)"
      ],
      "metadata": {
        "colab": {
          "base_uri": "https://localhost:8080/"
        },
        "id": "QbdIzhFzx4Qn",
        "outputId": "6a610214-67a2-4490-deb7-ec388adcc565"
      },
      "execution_count": 27,
      "outputs": [
        {
          "output_type": "stream",
          "name": "stdout",
          "text": [
            "shape of X_train : (784, 1000)\n",
            "shape of Y_train : (10, 1000)\n",
            "shape of X_test : (784, 350)\n",
            "shape of Y_test : (10, 350)\n"
          ]
        }
      ]
    },
    {
      "cell_type": "code",
      "source": [
        "index = random.randrange(0, x_train.shape[1])\n",
        "plt.imshow(x_train[:, index].reshape(28,28), cmap = 'gray')\n",
        "plt.show()"
      ],
      "metadata": {
        "colab": {
          "base_uri": "https://localhost:8080/",
          "height": 430
        },
        "id": "rr2AN1AU0y8Z",
        "outputId": "3fa7e878-86f3-4c72-c53e-72bca2338428"
      },
      "execution_count": 28,
      "outputs": [
        {
          "output_type": "display_data",
          "data": {
            "text/plain": [
              "<Figure size 640x480 with 1 Axes>"
            ],
            "image/png": "[encoded data removed]"
          },
          "metadata": {}
        }
      ]
    },
    {
      "cell_type": "code",
      "source": [
        "def relu(x):\n",
        "  return np.maximum(x,0)\n",
        "\n",
        "def softmax(x):\n",
        "  expX = np.exp(x)\n",
        "  return expX/np.sum(expX, axis = 0)"
      ],
      "metadata": {
        "id": "JnpFMqv-10Ec"
      },
      "execution_count": 29,
      "outputs": []
    },
    {
      "cell_type": "code",
      "source": [
        "def derivative_relu(x):\n",
        "  return np.array(x > 0, dtype = np.float32)"
      ],
      "metadata": {
        "id": "5THkG9lh3At2"
      },
      "execution_count": 30,
      "outputs": []
    },
    {
      "cell_type": "code",
      "source": [
        "def initialize_parameters(n_x, n_h, n_y,):\n",
        "  w1 = np.random.randn(n_h, n_x)*0.01\n",
        "  b1 = np.zeros((n_h, 1))\n",
        "\n",
        "  w2 = np.random.randn(n_y, n_h)*0.01\n",
        "  b2 = np.zeros((n_y, 1))\n",
        "\n",
        "  parameters = {\n",
        "      \"w1\" : w1,\n",
        "      \"b1\" : b1,\n",
        "      \"w2\" : w2,\n",
        "      \"b2\" : b2\n",
        "  }\n",
        "\n",
        "  return parameters"
      ],
      "metadata": {
        "id": "YOmmlxR73nsQ"
      },
      "execution_count": 41,
      "outputs": []
    },
    {
      "cell_type": "code",
      "source": [
        "def forward_propagation(x, parameters):\n",
        "\n",
        "  w1 = parameters[\"w1\"]\n",
        "  b1 = parameters[\"b1\"]\n",
        "  w2 = parameters[\"w2\"]\n",
        "  b2 = parameters[\"b2\"]\n",
        "\n",
        "  z1 = np.dot(w1, x) + b1\n",
        "  a1 = relu(z1)\n",
        "\n",
        "  z2 = np.dot(w2, a1) + b2\n",
        "  a2 = softmax(z2)\n",
        "\n",
        "  forward_cache = {\n",
        "      \"z1\" : z1,\n",
        "      \"a1\" : a1,\n",
        "      \"z2\" : z2,\n",
        "      \"a2\" : a2\n",
        "  }\n",
        "\n",
        "  return forward_cache"
      ],
      "metadata": {
        "id": "auJTmIvd5qbo"
      },
      "execution_count": 32,
      "outputs": []
    },
    {
      "cell_type": "code",
      "source": [
        "def cost_function(a2, y):\n",
        "  m = y.shape[1]\n",
        "  cost = -(1/m)*np.sum(y*np.log(a2))\n",
        "\n",
        "  return cost"
      ],
      "metadata": {
        "id": "aYDk2o517O-M"
      },
      "execution_count": 44,
      "outputs": []
    },
    {
      "cell_type": "code",
      "source": [
        "def backward_prop(x,y,parameters,forward_cache):\n",
        "  w1 = parameters['w1']\n",
        "  b1 = parameters['b1']\n",
        "  w2 = parameters['w2']\n",
        "  b2 = parameters['b2']\n",
        "\n",
        "  a1 = forward_cache['a1']\n",
        "  a2 = forward_cache['a2']\n",
        "\n",
        "  m = x.shape[1]\n",
        "\n",
        "  dz2 = (a2 - y)\n",
        "  dw2 = (1/m)*np.dot(dz2, a1.T)\n",
        "  db2 = (1/m)*np.sum(dz2, axis = 1, keepdims = True)\n",
        "\n",
        "  dz1 = (1/m)*np.dot(w2.T, dz2)*derivative_relu(a1)\n",
        "  dw1 = (1/m)*np.dot(dz1, x.T)\n",
        "  db1 = (1/m)*np.sum(dz1, axis = 1, keepdims = True)\n",
        "\n",
        "  gradients = {\n",
        "      \"dw1\" : dw1,\n",
        "      \"db1\" : db1,\n",
        "      \"dw2\" : dw2,\n",
        "      \"db2\" : db2\n",
        "  }\n",
        "\n",
        "  return gradients\n",
        "\n"
      ],
      "metadata": {
        "id": "Ed-9brkP736R"
      },
      "execution_count": 34,
      "outputs": []
    },
    {
      "cell_type": "code",
      "source": [
        "def update_parameters(parameters, gradients, learning_rate):\n",
        "  w1 = parameters['w1']\n",
        "  b1 = parameters['b1']\n",
        "  w2 = parameters['w2']\n",
        "  b2 = parameters['b2']\n",
        "\n",
        "  dw1 = gradients['dw1']\n",
        "  db1 = gradients['db1']\n",
        "  dw2 = gradients['dw2']\n",
        "  db2 = gradients['db2']\n",
        "\n",
        "  w1 = w1 - learning_rate*dw1\n",
        "  b1 = b1 - learning_rate*db1\n",
        "  w2 = w2 - learning_rate*dw2\n",
        "  b2 = b2 - learning_rate*db2\n",
        "\n",
        "  parameters = {\n",
        "      \"w1\" : w1,\n",
        "      \"b1\" : b1,\n",
        "      \"w2\" : w2,\n",
        "      \"b2\" : b2\n",
        "  }\n",
        "\n",
        "  return parameters\n",
        ""
      ],
      "metadata": {
        "id": "FFNSAnm5-AF8"
      },
      "execution_count": 35,
      "outputs": []
    },
    {
      "cell_type": "code",
      "source": [
        "def model(x, y, n_h, learning_rate,iterations):\n",
        "\n",
        "  n_x = x.shape[0]\n",
        "  n_y = y.shape[0]\n",
        "\n",
        "  cost_list = []\n",
        "\n",
        "  parameters = initialize_parameters(n_x, n_h, n_y)\n",
        "\n",
        "  for i in range(iterations):\n",
        "    forward_cache = forward_propagation(x, parameters)\n",
        "    cost = cost_function(forward_cache['a2'], y)\n",
        "    gradients = backward_prop(x, y, parameters, forward_cache)\n",
        "    parameters = update_parameters(parameters, gradients, learning_rate)\n",
        "\n",
        "    cost_list.append(cost)\n",
        "\n",
        "    if(i%(iterations/10) == 0):\n",
        "      print(\"Cost after\", i, \"iterations is\", cost)\n",
        "\n",
        "  return parameters"
      ],
      "metadata": {
        "id": "kZftCTt9-3mC"
      },
      "execution_count": 36,
      "outputs": []
    },
    {
      "cell_type": "code",
      "source": [
        "iterations = 100\n",
        "n_h = 1000\n",
        "learning_rate = 0.002\n",
        "Parameters = model(x_train, y_train, n_h = n_h, learning_rate = learning_rate, iterations = iterations)\n"
      ],
      "metadata": {
        "colab": {
          "base_uri": "https://localhost:8080/"
        },
        "id": "j4Nd1w2nBUPX",
        "outputId": "7114ed41-49b4-4868-84ac-325f2fd3bf87"
      },
      "execution_count": 45,
      "outputs": [
        {
          "output_type": "stream",
          "name": "stdout",
          "text": [
            "Cost after 0 iterations is 6.557353620423759\n",
            "Cost after 10 iterations is 17.359277976685707\n",
            "Cost after 20 iterations is 2.581869534926739\n",
            "Cost after 30 iterations is 0.5539225594503272\n",
            "Cost after 40 iterations is 4.058856995308438\n",
            "Cost after 50 iterations is 0.17634776956630221\n",
            "Cost after 60 iterations is 0.12037454659230924\n",
            "Cost after 70 iterations is 0.0784563010243344\n",
            "Cost after 80 iterations is 0.035070779352342284\n",
            "Cost after 90 iterations is 0.019872624874471136\n"
          ]
        }
      ]
    }
  ]
}